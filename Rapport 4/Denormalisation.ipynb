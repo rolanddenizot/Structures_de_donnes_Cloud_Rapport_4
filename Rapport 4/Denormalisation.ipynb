{
 "cells": [
  {
   "cell_type": "code",
   "execution_count": null,
   "metadata": {},
   "outputs": [],
   "source": [
    "import pandas as pd\n",
    "\n",
    "customers = pd.read_csv(\"SalesDB/customers.csv\")\n",
    "sales = pd.read_csv(\"SalesDB/sales.csv\")\n",
    "employees = pd.read_csv(\"SalesDB/employees.csv\")\n",
    "products = pd.read_csv(\"SalesDB/products.csv\")\n",
    "\n",
    "final_table = (\n",
    "    sales\n",
    "    .merge(products, on=\"ProductID\", how=\"inner\")\n",
    "    .merge(customers, on=\"CustomerID\", how=\"inner\")\n",
    "    .merge(\n",
    "        employees,\n",
    "        left_on=\"SalesPersonID\",\n",
    "        right_on=\"EmployeeID\",\n",
    "        how=\"left\",\n",
    "        suffixes=[\"_customer\", \"_employee\"]\n",
    "    )\n",
    "    .sort_values(by=\"SalesID\")\n",
    "    .reset_index(drop=True)\n",
    ")\n",
    "\n",
    "final_table = final_table.drop(\"SalesPersonID\", axis=1)\n",
    "\n",
    "final_table.to_json(\"Unique_table.json\", orient=\"records\")"
   ]
  }
 ],
 "metadata": {
  "kernelspec": {
   "display_name": "Python 3",
   "language": "python",
   "name": "python3"
  },
  "language_info": {
   "codemirror_mode": {
    "name": "ipython",
    "version": 3
   },
   "file_extension": ".py",
   "mimetype": "text/x-python",
   "name": "python",
   "nbconvert_exporter": "python",
   "pygments_lexer": "ipython3",
   "version": "3.8.5"
  }
 },
 "nbformat": 4,
 "nbformat_minor": 4
}
